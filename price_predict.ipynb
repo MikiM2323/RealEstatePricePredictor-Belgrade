{
 "cells": [
  {
   "cell_type": "code",
   "execution_count": null,
   "id": "978630f7-49af-4c8a-9af6-35024e31be9a",
   "metadata": {},
   "outputs": [],
   "source": [
    "# Importing relevant libraries\n",
    "\n",
    "import pickle\n",
    "import numpy as np\n",
    "import pandas as pd"
   ]
  },
  {
   "cell_type": "code",
   "execution_count": 79,
   "id": "3d0e78c0-8827-4995-8ef7-342f0e0ccd41",
   "metadata": {},
   "outputs": [
    {
     "name": "stdin",
     "output_type": "stream",
     "text": [
      "Enter the size of the property:  65\n",
      "Enter the location:  Stari Grad\n"
     ]
    },
    {
     "name": "stdout",
     "output_type": "stream",
     "text": [
      "Predicted Price: 207451.77 currency units\n"
     ]
    }
   ],
   "source": [
    "# Load the saved model\n",
    "with open(\"linear_regression_model.pkl\", \"rb\") as file:\n",
    "    reg = pickle.load(file)\n",
    "\n",
    "# Load the scaler\n",
    "with open(\"scaler.pkl\", \"rb\") as file:\n",
    "    scaler = pickle.load(file)\n",
    "\n",
    "# Get expected feature names\n",
    "expected_features = scaler.feature_names_in_\n",
    "\n",
    "# Function for log transformation\n",
    "def log_transform(x):\n",
    "    return np.log(x) if x > 0 else np.nan  # Ensure no negative or zero values\n",
    "\n",
    "# Function to collect user inputs\n",
    "def get_inputs():\n",
    "    size = input(\"Enter the size of the property: \")\n",
    "    \n",
    "    try:\n",
    "        size = float(size)\n",
    "        if size <= 0:\n",
    "            raise ValueError(\"Size must be greater than zero.\")\n",
    "    except ValueError:\n",
    "        print(\"Invalid size input. Please enter a positive number.\")\n",
    "        return None  # Stop execution if input is invalid\n",
    "\n",
    "    location = (input(\"Enter the location: \"))  # Example: 3\n",
    "    location_cluster = cluster_loc.loc[cluster_loc['location'] == location, 'cluster']\n",
    "    location_cluster = int(location_cluster.iloc[0])\n",
    "\n",
    "    # Create a dictionary for features (excluding Location_Cluster_0)\n",
    "    input_data = {f\"Location_Cluster_{i}\": 0 for i in range(1, 10)}\n",
    "    input_data[\"Size\"] = log_transform(size)\n",
    "\n",
    "    # Set the appropriate cluster to 1 if it's not Cluster 0\n",
    "    if location_cluster != 0:\n",
    "        input_data[f\"Location_Cluster_{location_cluster}\"] = 1\n",
    "\n",
    "    # Convert to DataFrame and ensure feature order matches scaler\n",
    "    df_input = pd.DataFrame([input_data])\n",
    "\n",
    "    # Reorder columns to match training data\n",
    "    df_input = df_input.reindex(columns=expected_features, fill_value=0)\n",
    "\n",
    "    return df_input\n",
    "\n",
    "# Get inputs\n",
    "inputs = get_inputs()\n",
    "\n",
    "if inputs is not None:\n",
    "    # Scale the input data\n",
    "    scaled_inputs = scaler.transform(inputs)\n",
    "\n",
    "    # Make prediction\n",
    "    log_price_pred = reg.predict(scaled_inputs)\n",
    "\n",
    "    # Reverse log transformation\n",
    "    price_pred = np.exp(log_price_pred)[0]\n",
    "\n",
    "    print(f\"Predicted Price: {price_pred:.2f} currency units\")"
   ]
  },
  {
   "cell_type": "code",
   "execution_count": null,
   "id": "2eaea60f-4375-4c4c-8c20-0343f10e52d6",
   "metadata": {},
   "outputs": [],
   "source": []
  }
 ],
 "metadata": {
  "kernelspec": {
   "display_name": "Python 3 (ipykernel)",
   "language": "python",
   "name": "python3"
  },
  "language_info": {
   "codemirror_mode": {
    "name": "ipython",
    "version": 3
   },
   "file_extension": ".py",
   "mimetype": "text/x-python",
   "name": "python",
   "nbconvert_exporter": "python",
   "pygments_lexer": "ipython3",
   "version": "3.12.4"
  }
 },
 "nbformat": 4,
 "nbformat_minor": 5
}
